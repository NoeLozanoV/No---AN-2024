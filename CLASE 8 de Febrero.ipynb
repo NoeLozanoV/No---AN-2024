{
 "cells": [
  {
   "cell_type": "code",
   "execution_count": 21,
   "id": "conservative-canvas",
   "metadata": {},
   "outputs": [
    {
     "data": {
      "text/plain": [
       "0.10000000000291054"
      ]
     },
     "execution_count": 21,
     "metadata": {},
     "output_type": "execute_result"
    }
   ],
   "source": [
    "def iternum(n):\n",
    "    result=0.1\n",
    "    \n",
    "    for  i in range(n):\n",
    "        result +=1/3\n",
    "        \n",
    "    for i in range(n):\n",
    "        result -=1/3\n",
    "    return result\n",
    "    \n",
    "iternum(100000)    "
   ]
  },
  {
   "cell_type": "code",
   "execution_count": 20,
   "id": "extended-johns",
   "metadata": {
    "scrolled": true
   },
   "outputs": [
    {
     "name": "stdout",
     "output_type": "stream",
     "text": [
      "Resultado esperado: 1.0\n",
      "Resultado Actual: 1.0999999999999999\n"
     ]
    }
   ],
   "source": [
    "total=0.1\n",
    "for i in range (10):\n",
    "    total +=0.1\n",
    "print(f\"Resultado esperado: 1.0\\nResultado Actual: {total}\")"
   ]
  },
  {
   "cell_type": "code",
   "execution_count": 23,
   "id": "impressive-studio",
   "metadata": {},
   "outputs": [
    {
     "data": {
      "text/plain": [
       "'0.1000000000029105384768968'"
      ]
     },
     "execution_count": 23,
     "metadata": {},
     "output_type": "execute_result"
    }
   ],
   "source": [
    "format(iternum(100000), '.25f')"
   ]
  },
  {
   "cell_type": "code",
   "execution_count": 24,
   "id": "double-introduction",
   "metadata": {
    "scrolled": true
   },
   "outputs": [
    {
     "data": {
      "text/plain": [
       "False"
      ]
     },
     "execution_count": 24,
     "metadata": {},
     "output_type": "execute_result"
    }
   ],
   "source": [
    "0.3==0.1+0.1+0.1"
   ]
  }
 ],
 "metadata": {
  "kernelspec": {
   "display_name": "Python 3",
   "language": "python",
   "name": "python3"
  },
  "language_info": {
   "codemirror_mode": {
    "name": "ipython",
    "version": 3
   },
   "file_extension": ".py",
   "mimetype": "text/x-python",
   "name": "python",
   "nbconvert_exporter": "python",
   "pygments_lexer": "ipython3",
   "version": "3.9.2"
  }
 },
 "nbformat": 4,
 "nbformat_minor": 5
}
