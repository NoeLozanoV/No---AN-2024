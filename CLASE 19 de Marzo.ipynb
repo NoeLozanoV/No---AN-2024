{
 "cells": [
  {
   "cell_type": "markdown",
   "id": "banner-institution",
   "metadata": {},
   "source": [
    "Diferencias finitas\n",
    "\n",
    "2. Fuentes de error\n",
    "\n",
    "1) Error de aproximación\n",
    "\n",
    "$eap=\\frac{h}{2}|{f''(x)}|$\n",
    "\n",
    "2) Error aritmético --->  $hop=\\sqrt{4em \\frac{|f(x)|}{|f'(x)|}}$\n",
    "\n",
    "$ear=\\frac{2|f(x)|em}{-->h}$\n",
    "\n",
    "$em$: error de máquina\n",
    "\n",
    "$hop: óptimo$"
   ]
  },
  {
   "cell_type": "code",
   "execution_count": 92,
   "id": "overhead-bankruptcy",
   "metadata": {},
   "outputs": [],
   "source": [
    "import numpy as np\n",
    "import sympy as sy\n",
    "import matplotlib.pyplot as plt\n",
    "\n",
    "x,h= sy.symbols('x,h')\n"
   ]
  },
  {
   "cell_type": "code",
   "execution_count": 93,
   "id": "southern-showcase",
   "metadata": {},
   "outputs": [
    {
     "name": "stdout",
     "output_type": "stream",
     "text": [
      "La función f(x) evaluada en x es:\n"
     ]
    },
    {
     "data": {
      "text/latex": [
       "$\\displaystyle e^{\\sin{\\left(2 x \\right)}}$"
      ],
      "text/plain": [
       "exp(sin(2*x))"
      ]
     },
     "metadata": {},
     "output_type": "display_data"
    },
    {
     "name": "stdout",
     "output_type": "stream",
     "text": [
      "Derivada de f(x):\n"
     ]
    },
    {
     "data": {
      "text/latex": [
       "$\\displaystyle 2 e^{\\sin{\\left(2 x \\right)}} \\cos{\\left(2 x \\right)}$"
      ],
      "text/plain": [
       "2*exp(sin(2*x))*cos(2*x)"
      ]
     },
     "metadata": {},
     "output_type": "display_data"
    },
    {
     "name": "stdout",
     "output_type": "stream",
     "text": [
      "Derivada analítica evaluada en x=0.5:\n"
     ]
    },
    {
     "data": {
      "text/latex": [
       "$\\displaystyle 2.50676153498689$"
      ],
      "text/plain": [
       "2.50676153498689"
      ]
     },
     "metadata": {},
     "output_type": "display_data"
    },
    {
     "name": "stdout",
     "output_type": "stream",
     "text": [
      "Fórmula progresiva de f(x):\n"
     ]
    },
    {
     "data": {
      "text/latex": [
       "$\\displaystyle \\frac{- e^{\\sin{\\left(2 x \\right)}} + e^{\\sin{\\left(2 h + 2 x \\right)}}}{h}$"
      ],
      "text/plain": [
       "(-exp(sin(2*x)) + exp(sin(2*h + 2*x)))/h"
      ]
     },
     "metadata": {},
     "output_type": "display_data"
    },
    {
     "name": "stdout",
     "output_type": "stream",
     "text": [
      "Fórmula progresiva evaluada en x=0.5, h=0.01\n"
     ]
    },
    {
     "data": {
      "text/latex": [
       "$\\displaystyle 2.48072561929682$"
      ],
      "text/plain": [
       "2.48072561929682"
      ]
     },
     "metadata": {},
     "output_type": "display_data"
    },
    {
     "name": "stdout",
     "output_type": "stream",
     "text": [
      "Fórmula centrada de f(x):\n"
     ]
    },
    {
     "data": {
      "text/latex": [
       "$\\displaystyle h \\left(\\frac{e^{\\sin{\\left(2 h + 2 x \\right)}}}{2} - \\frac{e^{- \\sin{\\left(2 h - 2 x \\right)}}}{2}\\right)$"
      ],
      "text/plain": [
       "h*(exp(sin(2*h + 2*x))/2 - exp(-sin(2*h - 2*x))/2)"
      ]
     },
     "metadata": {},
     "output_type": "display_data"
    },
    {
     "name": "stdout",
     "output_type": "stream",
     "text": [
      "Fórmula centrada evaluada en x=0.5, h=0.01 :\n"
     ]
    },
    {
     "data": {
      "text/latex": [
       "$\\displaystyle 0.000250622139349468$"
      ],
      "text/plain": [
       "0.000250622139349468"
      ]
     },
     "metadata": {},
     "output_type": "display_data"
    },
    {
     "name": "stdout",
     "output_type": "stream",
     "text": [
      "Error 1 (Derivada analítica-Fórmula progresiva)\n"
     ]
    },
    {
     "data": {
      "text/latex": [
       "$\\displaystyle 0.0260359156900742$"
      ],
      "text/plain": [
       "0.0260359156900742"
      ]
     },
     "metadata": {},
     "output_type": "display_data"
    },
    {
     "name": "stdout",
     "output_type": "stream",
     "text": [
      "Error 2 (Derivada analítica-Fórmula centrada)\n"
     ]
    },
    {
     "data": {
      "text/latex": [
       "$\\displaystyle 2.50651091284754$"
      ],
      "text/plain": [
       "2.50651091284754"
      ]
     },
     "metadata": {},
     "output_type": "display_data"
    }
   ],
   "source": [
    "def f(x):\n",
    "    return sy.exp(sy.sin(2*x))\n",
    "\n",
    "print('La función f(x) evaluada en',x ,'es:')\n",
    "display(f(x))\n",
    "\n",
    "def df(x):\n",
    "    return sy.exp(sy.sin(2*x))*2*sy.cos(2*x)\n",
    "print('Derivada de f(x):')\n",
    "display(df(x))\n",
    "\n",
    "print('Derivada analítica evaluada en x=0.5:')\n",
    "display(df(0.5))\n",
    "\n",
    "\n",
    "#Pa'lante \n",
    "\n",
    "def derfp(x,h):\n",
    "    return (f(x+h)-f(x))/h\n",
    "\n",
    "print('Fórmula progresiva de f(x):')\n",
    "display(derfp(x,h))\n",
    "\n",
    "print('Fórmula progresiva evaluada en x=0.5, h=0.01')\n",
    "display(derfp(0.5,0.01))\n",
    "\n",
    "\n",
    "\n",
    "#Central\n",
    "\n",
    "def derfc(x,h):\n",
    "    return (f(x+h)-f(x-h))/2*h\n",
    "\n",
    "print('Fórmula centrada de f(x):')\n",
    "display(derfc(x,h))\n",
    "\n",
    "print('Fórmula centrada evaluada en x=0.5, h=0.01 :')\n",
    "display(derfc(0.5,0.01))\n",
    "\n",
    "print('Error 1 (Derivada analítica-Fórmula progresiva)')\n",
    "error1=df(0.5)-derfp(0.5,0.01)\n",
    "display(error1)\n",
    "\n",
    "print('Error 2 (Derivada analítica-Fórmula centrada)')\n",
    "error2=df(0.5)-derfc(0.5,0.01)\n",
    "display(error2)"
   ]
  },
  {
   "cell_type": "code",
   "execution_count": 88,
   "id": "assured-showcase",
   "metadata": {},
   "outputs": [],
   "source": [
    "plt.plot(d, y)\n",
    "plt.xlabel('d [cm]')\n",
    "plt.ylabel('f(d)')\n",
    "plt.title('Gráfica de la función f(d)')\n",
    "plt.grid(True)\n",
    "plt.show()"
   ]
  }
 ],
 "metadata": {
  "kernelspec": {
   "display_name": "Python 3",
   "language": "python",
   "name": "python3"
  },
  "language_info": {
   "codemirror_mode": {
    "name": "ipython",
    "version": 3
   },
   "file_extension": ".py",
   "mimetype": "text/x-python",
   "name": "python",
   "nbconvert_exporter": "python",
   "pygments_lexer": "ipython3",
   "version": "3.9.2"
  }
 },
 "nbformat": 4,
 "nbformat_minor": 5
}
