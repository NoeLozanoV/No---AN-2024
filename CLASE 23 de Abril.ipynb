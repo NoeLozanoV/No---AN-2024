{
 "cells": [
  {
   "cell_type": "markdown",
   "id": "phantom-daisy",
   "metadata": {},
   "source": [
    "$\\large{\\textbf{Interpolación}}$\n",
    "\n",
    "$\\normalsize{-~Integración~polinomial}$\n",
    "\n",
    "    Equidistante, Nodos de Chebyshev (Puntos)\n",
    "\n",
    "$\\normalsize{-~Ajuste~de~mínimos~cuadrados}$\n",
    "\n",
    "    Monomios, Cardinales Lagrange (Base)"
   ]
  },
  {
   "cell_type": "markdown",
   "id": "ordinary-impossible",
   "metadata": {},
   "source": [
    "Problema:\n",
    "\n",
    "Dado un conjunto de pares (x_i,f(x_i)) encontrar una representación:\n",
    "\n",
    "$\n",
    "f(x)= \\sum a_n~\\phi_n(x)\n",
    "$\n",
    "\n",
    "en algún sentido 'óptima', i.e., los mejores valores de $a_n$"
   ]
  },
  {
   "cell_type": "code",
   "execution_count": null,
   "id": "foster-clarity",
   "metadata": {},
   "outputs": [],
   "source": []
  }
 ],
 "metadata": {
  "kernelspec": {
   "display_name": "Python 3",
   "language": "python",
   "name": "python3"
  },
  "language_info": {
   "codemirror_mode": {
    "name": "ipython",
    "version": 3
   },
   "file_extension": ".py",
   "mimetype": "text/x-python",
   "name": "python",
   "nbconvert_exporter": "python",
   "pygments_lexer": "ipython3",
   "version": "3.9.2"
  }
 },
 "nbformat": 4,
 "nbformat_minor": 5
}
