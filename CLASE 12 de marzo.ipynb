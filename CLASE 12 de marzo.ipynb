{
 "cells": [
  {
   "cell_type": "code",
   "execution_count": 3,
   "id": "marked-republican",
   "metadata": {},
   "outputs": [
    {
     "name": "stdout",
     "output_type": "stream",
     "text": [
      "Triangular inferior\t\tTriangular superior\n",
      "1\t0\t0\t\t2\t7\t-1\t\n",
      "2\t1\t0\t\t0\t-12\t6\t\n",
      "-4\t0\t1\t\t0\t0\t4\t\n"
     ]
    }
   ],
   "source": [
    "#Programa para descomponer una matriz en matriz triangular superior e inferior\n",
    "\n",
    "MAX = 100\n",
    " \n",
    " \n",
    "def TrDescomposicion(mat, n):\n",
    " \n",
    "    inferior = [[0 for x in range(n)]\n",
    "             for y in range(n)]\n",
    "    superior = [[0 for x in range(n)]\n",
    "             for y in range(n)]\n",
    " \n",
    " #Descomposición en triangular superior e inferior\n",
    "    \n",
    "    for i in range(n):\n",
    " \n",
    "        # Triangular superior\n",
    "        for k in range(i, n):\n",
    " \n",
    "            # Sumatoria de L(i, j) * U(j, k)\n",
    "            sum = 0\n",
    "            for j in range(i):\n",
    "                sum += (inferior[i][j] * superior[j][k])\n",
    " \n",
    "            # Evaluación de U(i, k)\n",
    "            superior[i][k] = mat[i][k] - sum\n",
    " \n",
    "        # Triangular inferior\n",
    "        for k in range(i, n):\n",
    "            if (i == k):\n",
    "                inferior[i][i] = 1  # Diagonal igual a 1\n",
    "            else:\n",
    " \n",
    "                # Sumatoria de L(k, j) * U(j, i)\n",
    "                sum = 0\n",
    "                for j in range(i):\n",
    "                    sum += (inferior[k][j] * superior[j][i])\n",
    " \n",
    "                # Evaluación de L(k, i)\n",
    "                inferior[k][i] = int((mat[k][i] - sum) /\n",
    "                                  superior[i][i])\n",
    " \n",
    "    \n",
    "    print(\"Triangular inferior\\t\\tTriangular superior\")\n",
    " \n",
    "    # Resultado:\n",
    "    for i in range(n):\n",
    " \n",
    "        # Inferior\n",
    "        for j in range(n):\n",
    "            print(inferior[i][j], end=\"\\t\")\n",
    "        print(\"\", end=\"\\t\")\n",
    " \n",
    "        # Superior\n",
    "        for j in range(n):\n",
    "            print(superior[i][j], end=\"\\t\")\n",
    "        print(\"\")\n",
    " \n",
    " \n",
    "# Driver code\n",
    "mat = [[2, 7, -1],\n",
    "       [5, 2, 4],\n",
    "       [-9, -20, 8]]\n",
    " \n",
    "TrDescomposicion(mat, 3)\n",
    " \n",
    "# This code is contributed by mits"
   ]
  },
  {
   "cell_type": "code",
   "execution_count": null,
   "id": "legislative-workstation",
   "metadata": {},
   "outputs": [],
   "source": []
  }
 ],
 "metadata": {
  "kernelspec": {
   "display_name": "Python 3",
   "language": "python",
   "name": "python3"
  },
  "language_info": {
   "codemirror_mode": {
    "name": "ipython",
    "version": 3
   },
   "file_extension": ".py",
   "mimetype": "text/x-python",
   "name": "python",
   "nbconvert_exporter": "python",
   "pygments_lexer": "ipython3",
   "version": "3.9.2"
  }
 },
 "nbformat": 4,
 "nbformat_minor": 5
}
