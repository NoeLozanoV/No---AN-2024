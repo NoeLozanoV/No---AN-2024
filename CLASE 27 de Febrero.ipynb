{
 "cells": [
  {
   "cell_type": "code",
   "execution_count": 10,
   "id": "chinese-palace",
   "metadata": {},
   "outputs": [],
   "source": [
    "import numpy as np\n",
    "import sympy as sy\n",
    "from sympy import *\n",
    "from sympy.abc import x\n",
    "import matplotlib.pyplot as plt"
   ]
  },
  {
   "cell_type": "code",
   "execution_count": 11,
   "id": "happy-prevention",
   "metadata": {},
   "outputs": [
    {
     "name": "stdout",
     "output_type": "stream",
     "text": [
      "Matriz A\n"
     ]
    },
    {
     "data": {
      "text/plain": [
       "array([[ 3,  7,  8],\n",
       "       [ 9,  4,  2],\n",
       "       [ 1, 12,  6]])"
      ]
     },
     "metadata": {},
     "output_type": "display_data"
    },
    {
     "name": "stdout",
     "output_type": "stream",
     "text": [
      "Matriz F\n"
     ]
    },
    {
     "data": {
      "text/plain": [
       "array([13, 22,  8])"
      ]
     },
     "metadata": {},
     "output_type": "display_data"
    }
   ],
   "source": [
    "x,y,z=sy.symbols('x,y,z')\n",
    "print('Matriz A')\n",
    "A=np.array([[3,7,8],[9,4,2],[1,12,6]])\n",
    "display(A)\n",
    "print('Matriz F')\n",
    "F=np.array([13,22,8])\n",
    "display(F)"
   ]
  },
  {
   "cell_type": "code",
   "execution_count": 12,
   "id": "private-rouge",
   "metadata": {},
   "outputs": [],
   "source": [
    "def gauss(A,F):\n",
    "    U=np.copy(A)\n",
    "    G=np.copy(F)\n",
    "    n=F.size\n",
    "    for j in range(n-1):\n",
    "        for i in range(j+1,n):\n",
    "            m=U[i,j]/U[j,j]\n",
    "            U[i,j:]=U[i,j:]-m*U[j,j:]\n",
    "            G[i]=G[i]-m*G[j]\n",
    "    return U,G\n"
   ]
  },
  {
   "cell_type": "code",
   "execution_count": 18,
   "id": "military-hotel",
   "metadata": {
    "scrolled": true
   },
   "outputs": [
    {
     "data": {
      "text/plain": [
       "(array([[  3,   7,   8],\n",
       "        [  0, -17, -22],\n",
       "        [  0,   0,  -8]]),\n",
       " array([ 13, -17,  -6]))"
      ]
     },
     "execution_count": 18,
     "metadata": {},
     "output_type": "execute_result"
    }
   ],
   "source": [
    "gauss(A,F)"
   ]
  },
  {
   "cell_type": "code",
   "execution_count": 21,
   "id": "498792ed",
   "metadata": {},
   "outputs": [
    {
     "name": "stdout",
     "output_type": "stream",
     "text": [
      "[[  3   7   8]\n",
      " [  0 -17 -22]\n",
      " [  0   0  -8]]\n",
      "[ 13 -17  -6]\n"
     ]
    }
   ],
   "source": [
    "U=gauss(A,F)[0]\n",
    "print(U)\n",
    "G=gauss(A,F)[1]\n",
    "print(G)\n",
    "\n",
    "def solrev(U,G):\n",
    "    C=0\n",
    "    n= G.size\n",
    "    X= np.zeros(n)\n",
    "    for i in reversed(range(n)):\n",
    "        if i==n-1:\n",
    "            X[i]=(G[i])/(U[i,i])\n",
    "            continue\n",
    "        else:\n",
    "            for j in range (i+1,n):\n",
    "                C+=U[i,j]*X[j]\n",
    "            X[i]=(G[i]/U[i,i])-(1/U[i,i])*C\n",
    "            C=0\n",
    "    return X"
   ]
  },
  {
   "cell_type": "code",
   "execution_count": 22,
   "id": "619ca0d2",
   "metadata": {},
   "outputs": [
    {
     "data": {
      "text/plain": [
       "array([2.26470588, 0.02941176, 0.75      ])"
      ]
     },
     "execution_count": 22,
     "metadata": {},
     "output_type": "execute_result"
    }
   ],
   "source": [
    "solrev(U,G)"
   ]
  },
  {
   "cell_type": "code",
   "execution_count": null,
   "id": "797157b2",
   "metadata": {},
   "outputs": [],
   "source": []
  }
 ],
 "metadata": {
  "kernelspec": {
   "display_name": "Python 3 (ipykernel)",
   "language": "python",
   "name": "python3"
  },
  "language_info": {
   "codemirror_mode": {
    "name": "ipython",
    "version": 3
   },
   "file_extension": ".py",
   "mimetype": "text/x-python",
   "name": "python",
   "nbconvert_exporter": "python",
   "pygments_lexer": "ipython3",
   "version": "3.9.13"
  }
 },
 "nbformat": 4,
 "nbformat_minor": 5
}
