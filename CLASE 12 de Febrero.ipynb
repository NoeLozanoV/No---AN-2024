{
 "cells": [
  {
   "cell_type": "code",
   "execution_count": 104,
   "id": "mobile-reducing",
   "metadata": {},
   "outputs": [
    {
     "name": "stdout",
     "output_type": "stream",
     "text": [
      "Función:\n"
     ]
    },
    {
     "data": {
      "text/latex": [
       "$\\displaystyle \\sin{\\left(x \\right)}$"
      ],
      "text/plain": [
       "sin(x)"
      ]
     },
     "metadata": {},
     "output_type": "display_data"
    },
    {
     "name": "stdout",
     "output_type": "stream",
     "text": [
      "Expansión:\n"
     ]
    },
    {
     "data": {
      "text/latex": [
       "$\\displaystyle x + O\\left(x^{3}\\right)$"
      ],
      "text/plain": [
       "x + O(x**3)"
      ]
     },
     "metadata": {},
     "output_type": "display_data"
    },
    {
     "name": "stdout",
     "output_type": "stream",
     "text": [
      "Orden del término O\n"
     ]
    },
    {
     "data": {
      "text/latex": [
       "$\\displaystyle O\\left(x^{3}\\right)$"
      ],
      "text/plain": [
       "O(x**3)"
      ]
     },
     "metadata": {},
     "output_type": "display_data"
    },
    {
     "name": "stdout",
     "output_type": "stream",
     "text": [
      "Expansión sin término O\n"
     ]
    },
    {
     "data": {
      "text/latex": [
       "$\\displaystyle x$"
      ],
      "text/plain": [
       "x"
      ]
     },
     "metadata": {},
     "output_type": "display_data"
    }
   ],
   "source": [
    "#Paquetería\n",
    "import numpy as np\n",
    "import sympy as sy\n",
    "import matplotlib.pyplot as plt\n",
    "\n",
    "#Variables declaradas\n",
    "x= sy.symbols('x')\n",
    "#Definir función\n",
    "f= sy.sin(x)\n",
    "#Definir serie (Función,Variable,Alrededor de,Hasta donde)\n",
    "#Por preterminado da la serie de Taylor\n",
    "g= sy.series(f,x,0,3)\n",
    "\n",
    "#Remueve y obtiene el término O\n",
    "order=g.getO()\n",
    "gx=g.removeO()\n",
    "\n",
    "#Ejecución (display() para cosas matemáticas, print () para letras)\n",
    "print('Función:')\n",
    "display(f)\n",
    "print('Expansión:')\n",
    "display(g)\n",
    "print('Orden del término O')\n",
    "display(order)\n",
    "print('Expansión sin término O')\n",
    "display(gx)\n"
   ]
  },
  {
   "cell_type": "code",
   "execution_count": 105,
   "id": "fatal-preliminary",
   "metadata": {
    "scrolled": true
   },
   "outputs": [
    {
     "data": {
      "text/plain": [
       "9"
      ]
     },
     "metadata": {},
     "output_type": "display_data"
    }
   ],
   "source": [
    "import sympy as sy\n",
    "#Lambdify convierte expresiones simbólicas de sympy en funciones\n",
    "func=sy.lambdify(x,sy.exp(x))\n",
    "funcsq=sy.lambdify(x,x**2)\n",
    "display(funcsq(3))"
   ]
  },
  {
   "cell_type": "code",
   "execution_count": 106,
   "id": "adverse-curve",
   "metadata": {},
   "outputs": [
    {
     "name": "stdout",
     "output_type": "stream",
     "text": [
      "Función F evaluada en 3 con lambdify\n"
     ]
    },
    {
     "data": {
      "text/plain": [
       "0.1411200080598672"
      ]
     },
     "metadata": {},
     "output_type": "display_data"
    },
    {
     "name": "stdout",
     "output_type": "stream",
     "text": [
      "Función G evaluada en 3 con lambdify\n"
     ]
    },
    {
     "data": {
      "text/plain": [
       "3"
      ]
     },
     "metadata": {},
     "output_type": "display_data"
    }
   ],
   "source": [
    "#Para usar Lambdify es necesario quitar el término O, ya que quitándolo se convierte en una función númerica\n",
    "#la cual podemos graficar\n",
    "f_func=sy.lambdify(x,f)\n",
    "g_func=sy.lambdify(x,gx)\n",
    "\n",
    "print('Función F evaluada en 3 con lambdify')\n",
    "display(f_func(3))\n",
    "print('Función G evaluada en 3 con lambdify')\n",
    "display(g_func(3))"
   ]
  },
  {
   "cell_type": "code",
   "execution_count": 115,
   "id": "technical-herald",
   "metadata": {},
   "outputs": [
    {
     "data": {
      "image/png": "[encoded data removed]",
      "text/plain": [
       "<Figure size 432x288 with 1 Axes>"
      ]
     },
     "metadata": {
      "needs_background": "light"
     },
     "output_type": "display_data"
    }
   ],
   "source": [
    "#Gráficas\n",
    "x=np.linspace(-5,5)\n",
    "yf=f_func(x)\n",
    "yg=g_func(x)\n",
    "fig, ax=plt.subplots()\n",
    "ax.set_xlabel('x')\n",
    "ax.set_ylabel('y')\n",
    "plt.plot(x,yf)\n",
    "plt.plot(x,yg)\n",
    "plt.legend(['f','g'])\n",
    "plt.show()"
   ]
  },
  {
   "cell_type": "code",
   "execution_count": 117,
   "id": "cellular-traveler",
   "metadata": {},
   "outputs": [
    {
     "data": {
      "image/png": "[encoded data removed]",
      "text/plain": [
       "<Figure size 432x288 with 1 Axes>"
      ]
     },
     "metadata": {
      "needs_background": "light"
     },
     "output_type": "display_data"
    }
   ],
   "source": [
    "Yerr=np.abs(yf-yg)\n",
    "Yord=x**2\n",
    "plt.plot(x,Yerr)\n",
    "plt.plot(x,Yord)\n",
    "plt.legend(['error','orden'])\n",
    "plt.show()"
   ]
  },
  {
   "cell_type": "code",
   "execution_count": null,
   "id": "naked-maximum",
   "metadata": {},
   "outputs": [],
   "source": []
  },
  {
   "cell_type": "code",
   "execution_count": null,
   "id": "decimal-devon",
   "metadata": {},
   "outputs": [],
   "source": []
  }
 ],
 "metadata": {
  "kernelspec": {
   "display_name": "Python 3",
   "language": "python",
   "name": "python3"
  },
  "language_info": {
   "codemirror_mode": {
    "name": "ipython",
    "version": 3
   },
   "file_extension": ".py",
   "mimetype": "text/x-python",
   "name": "python",
   "nbconvert_exporter": "python",
   "pygments_lexer": "ipython3",
   "version": "3.9.2"
  }
 },
 "nbformat": 4,
 "nbformat_minor": 5
}
