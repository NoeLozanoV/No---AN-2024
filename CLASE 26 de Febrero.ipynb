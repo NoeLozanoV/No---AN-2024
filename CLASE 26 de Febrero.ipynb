{
 "cells": [
  {
   "cell_type": "code",
   "execution_count": 14,
   "id": "chinese-palace",
   "metadata": {},
   "outputs": [],
   "source": [
    "import numpy as np\n",
    "import sympy as sy\n",
    "from sympy import *\n",
    "from sympy.abc import x\n",
    "import matplotlib.pyplot as plt"
   ]
  },
  {
   "cell_type": "code",
   "execution_count": 15,
   "id": "happy-prevention",
   "metadata": {},
   "outputs": [
    {
     "name": "stdout",
     "output_type": "stream",
     "text": [
      "Matriz A\n"
     ]
    },
    {
     "data": {
      "text/plain": [
       "array([[ 3,  7,  8],\n",
       "       [ 9,  4,  2],\n",
       "       [ 1, 12,  6]])"
      ]
     },
     "metadata": {},
     "output_type": "display_data"
    },
    {
     "name": "stdout",
     "output_type": "stream",
     "text": [
      "Matriz F\n"
     ]
    },
    {
     "data": {
      "text/plain": [
       "array([1, 2, 3])"
      ]
     },
     "metadata": {},
     "output_type": "display_data"
    },
    {
     "name": "stdout",
     "output_type": "stream",
     "text": [
      "Matriz de variables\n"
     ]
    },
    {
     "data": {
      "text/plain": [
       "array([x, y, z], dtype=object)"
      ]
     },
     "metadata": {},
     "output_type": "display_data"
    },
    {
     "data": {
      "text/plain": [
       "array([[3*x, 7*y, 8*z],\n",
       "       [9*x, 4*y, 2*z],\n",
       "       [x, 12*y, 6*z]], dtype=object)"
      ]
     },
     "metadata": {},
     "output_type": "display_data"
    }
   ],
   "source": [
    "x,y,z=sy.symbols('x,y,z')\n",
    "print('Matriz A')\n",
    "A=np.array([[3,7,8],[9,4,2],[1,12,6]])\n",
    "display(A)\n",
    "print('Matriz F')\n",
    "F=np.array([1,2,3])\n",
    "display(F)\n",
    "print('Matriz de variables')\n",
    "X=np.array([x,y,z])\n",
    "display(X)\n",
    "AXF=np.array(A*X)\n",
    "display(AXF)"
   ]
  },
  {
   "cell_type": "code",
   "execution_count": 16,
   "id": "private-rouge",
   "metadata": {},
   "outputs": [],
   "source": [
    "def gauss(A,F):\n",
    "    U=np.copy(A)\n",
    "    G=np.copy(F)\n",
    "    n=F.size\n",
    "    for j in range(n-1):\n",
    "        for i in range(j+1,n):\n",
    "            m=U[i,j]/U[j,j]\n",
    "            U[i,j:]=U[i,j:]-m*U[j,j:]\n",
    "            G[i]=G[i]-m*G[j]\n",
    "    return U,G\n"
   ]
  },
  {
   "cell_type": "code",
   "execution_count": 17,
   "id": "military-hotel",
   "metadata": {},
   "outputs": [
    {
     "data": {
      "text/plain": [
       "(array([[  3,   7,   8],\n",
       "        [  0, -17, -22],\n",
       "        [  0,   0,  -8]]),\n",
       " array([ 1, -1,  1]))"
      ]
     },
     "execution_count": 17,
     "metadata": {},
     "output_type": "execute_result"
    }
   ],
   "source": [
    "gauss(A,F)"
   ]
  },
  {
   "cell_type": "code",
   "execution_count": null,
   "id": "sexual-strengthening",
   "metadata": {},
   "outputs": [],
   "source": []
  }
 ],
 "metadata": {
  "kernelspec": {
   "display_name": "Python 3",
   "language": "python",
   "name": "python3"
  },
  "language_info": {
   "codemirror_mode": {
    "name": "ipython",
    "version": 3
   },
   "file_extension": ".py",
   "mimetype": "text/x-python",
   "name": "python",
   "nbconvert_exporter": "python",
   "pygments_lexer": "ipython3",
   "version": "3.9.2"
  }
 },
 "nbformat": 4,
 "nbformat_minor": 5
}
