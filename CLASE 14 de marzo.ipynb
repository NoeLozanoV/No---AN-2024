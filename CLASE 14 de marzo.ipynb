{
 "cells": [
  {
   "cell_type": "code",
   "execution_count": 121,
   "id": "apart-somewhere",
   "metadata": {},
   "outputs": [
    {
     "name": "stdout",
     "output_type": "stream",
     "text": [
      "3.141592653589793238462643383279502884197169399375105820974944592307816406286208998628034825342117067982148086513282306647093844609550582231725359408128481117450284102701938521105559644622948954930381964428810975665933446128475648233786783165271201909145648566923460348610454326648213393607260249141273724587006606315588174881520920962829254091715364367892590360011330530548820466521384146951941511609433057270365759591953092186117381932611793105118548074462379962749567351885752724891227938183011949129833673362440656643086021394946395224737190702179860943702770539217176293176752384674818467669405132000568127145263560827785771342757789609173637178721468440901224953430146549585371050792279689258923542019956112129021960864034418159813629774771309960518707211349999998372978049951059731732816096318595024459455346908302642522308253344685035261931188171010003137838752886587533208381420617177669147303598253490428755468731159562863882353787593751957781857780532171287596405552309580469998790399558742\n"
     ]
    },
    {
     "data": {
      "text/plain": [
       "'763'"
      ]
     },
     "execution_count": 121,
     "metadata": {},
     "output_type": "execute_result"
    }
   ],
   "source": [
    "import mpmath\n",
    "from math import factorial\n",
    "\n",
    "def chudnovsky(digitos):\n",
    "    mpmath.mp.dps = digitos\n",
    "    C = mpmath.mpf(426880) * mpmath.sqrt(mpmath.mpf(10005))\n",
    "    a = mpmath.mpf(0)\n",
    "    for q in range(digitos // 15 + 2):\n",
    "        a += mpmath.mpf(factorial(6*q)) / mpmath.mpf((factorial(3*q)) * (factorial(q) ** 3)) * (mpmath.mpf(545140134) * mpmath.mpf(q) + mpmath.mpf(13591409)) / (mpmath.mpf(-262537412640768000) ** mpmath.mpf(q))\n",
    "    return str(C * a**-1)\n",
    "\n",
    "n=1000\n",
    "\n",
    "\n",
    "print(chudnovsky(n))\n",
    "str(chudnovsky(n).find('999999'))"
   ]
  },
  {
   "cell_type": "code",
   "execution_count": null,
   "id": "economic-oliver",
   "metadata": {},
   "outputs": [],
   "source": []
  }
 ],
 "metadata": {
  "kernelspec": {
   "display_name": "Python 3",
   "language": "python",
   "name": "python3"
  },
  "language_info": {
   "codemirror_mode": {
    "name": "ipython",
    "version": 3
   },
   "file_extension": ".py",
   "mimetype": "text/x-python",
   "name": "python",
   "nbconvert_exporter": "python",
   "pygments_lexer": "ipython3",
   "version": "3.9.2"
  }
 },
 "nbformat": 4,
 "nbformat_minor": 5
}
