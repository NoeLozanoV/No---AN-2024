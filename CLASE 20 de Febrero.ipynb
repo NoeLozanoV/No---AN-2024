{
 "cells": [
  {
   "cell_type": "code",
   "execution_count": 1,
   "id": "knowing-sapphire",
   "metadata": {},
   "outputs": [],
   "source": [
    "import numpy as np\n",
    "import sympy as sy\n",
    "from sympy import *\n",
    "from sympy.abc import x\n",
    "import matplotlib.pyplot as plt\n"
   ]
  },
  {
   "cell_type": "code",
   "execution_count": 2,
   "id": "funky-interstate",
   "metadata": {},
   "outputs": [
    {
     "name": "stdout",
     "output_type": "stream",
     "text": [
      "1.100654988195724\n",
      "1.0886045261524748\n",
      "1.088597752400025\n",
      "1.0885977523978936\n",
      "1.0885977523978936\n"
     ]
    },
    {
     "data": {
      "text/plain": [
       "1.0885977523978936"
      ]
     },
     "execution_count": 2,
     "metadata": {},
     "output_type": "execute_result"
    }
   ],
   "source": [
    "def heronkep(x,t,e):\n",
    "    g= x + ((t-x+e*np.sin(x))/(1-e*np.cos(x)))\n",
    "    print(g)\n",
    "    if g == x:\n",
    "        return g\n",
    "    else:\n",
    "        return heronkep(g,t,e)\n",
    "t=1\n",
    "a=0.5\n",
    "e=0.1\n",
    "heronkep(a,t,e)"
   ]
  },
  {
   "cell_type": "code",
   "execution_count": 3,
   "id": "fewer-folks",
   "metadata": {},
   "outputs": [
    {
     "name": "stdout",
     "output_type": "stream",
     "text": [
      "1.0479425538604203\n",
      "1.086639766474731\n",
      "1.0885067853016681\n",
      "1.088593533630708\n",
      "1.0885975567609814\n",
      "1.088597743325657\n",
      "1.0885977519771886\n",
      "1.0885977523783843\n",
      "1.088597752396989\n",
      "1.0885977523978516\n",
      "1.0885977523978916\n",
      "1.0885977523978936\n",
      "1.0885977523978936\n"
     ]
    },
    {
     "data": {
      "text/plain": [
       "1.0885977523978936"
      ]
     },
     "execution_count": 3,
     "metadata": {},
     "output_type": "execute_result"
    }
   ],
   "source": [
    "def newkep(x,t,e):\n",
    "    f= t+e*np.sin(x)\n",
    "    print(f)\n",
    "    if f == x:\n",
    "        return f\n",
    "    else:\n",
    "        return newkep(f,t,e)\n",
    "a=0.5\n",
    "e=0.1\n",
    "t=1\n",
    "newkep(a,t,e)"
   ]
  },
  {
   "cell_type": "code",
   "execution_count": null,
   "id": "administrative-providence",
   "metadata": {},
   "outputs": [],
   "source": []
  }
 ],
 "metadata": {
  "kernelspec": {
   "display_name": "Python 3",
   "language": "python",
   "name": "python3"
  },
  "language_info": {
   "codemirror_mode": {
    "name": "ipython",
    "version": 3
   },
   "file_extension": ".py",
   "mimetype": "text/x-python",
   "name": "python",
   "nbconvert_exporter": "python",
   "pygments_lexer": "ipython3",
   "version": "3.9.2"
  }
 },
 "nbformat": 4,
 "nbformat_minor": 5
}
