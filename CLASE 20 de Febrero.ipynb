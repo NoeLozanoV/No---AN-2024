{
 "cells": [
  {
   "cell_type": "code",
   "execution_count": null,
   "id": "knowing-sapphire",
   "metadata": {},
   "outputs": [],
   "source": [
    "import numpy as np\n",
    "import sympy as sy\n",
    "from sympy import *\n",
    "from sympy.abc import x\n",
    "import matplotlib.pyplot as plt\n"
   ]
  },
  {
   "cell_type": "code",
   "execution_count": null,
   "id": "funky-interstate",
   "metadata": {},
   "outputs": [],
   "source": [
    "def heronkep(x,t,e):\n",
    "    g= x + ((t-x+e*np.sin(x))/(1-e*np.cos(x)))\n",
    "    print(g)\n",
    "    if g == x:\n",
    "        return g\n",
    "    else:\n",
    "        return heronkep(g,t,e)\n",
    "t=1\n",
    "a=0.5\n",
    "e=0.1\n",
    "heronkep(a,t,e)"
   ]
  },
  {
   "cell_type": "code",
   "execution_count": null,
   "id": "fewer-folks",
   "metadata": {},
   "outputs": [],
   "source": [
    "def newkep(x,t,e):\n",
    "    f= t+e*np.sin(x)\n",
    "    print(f)\n",
    "    if f == x:\n",
    "        return f\n",
    "    else:\n",
    "        return newkep(f,t,e)\n",
    "a=0.5\n",
    "e=0.1\n",
    "t=1\n",
    "newkep(a,t,e)"
   ]
  }
 ],
 "metadata": {
  "kernelspec": {
   "display_name": "Python 3 (ipykernel)",
   "language": "python",
   "name": "python3"
  },
  "language_info": {
   "codemirror_mode": {
    "name": "ipython",
    "version": 3
   },
   "file_extension": ".py",
   "mimetype": "text/x-python",
   "name": "python",
   "nbconvert_exporter": "python",
   "pygments_lexer": "ipython3",
   "version": "3.9.13"
  }
 },
 "nbformat": 4,
 "nbformat_minor": 5
}
