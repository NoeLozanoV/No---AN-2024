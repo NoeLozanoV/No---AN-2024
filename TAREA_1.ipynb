{
 "cells": [
  {
   "cell_type": "code",
   "execution_count": 97,
   "id": "mobile-reducing",
   "metadata": {},
   "outputs": [
    {
     "name": "stdout",
     "output_type": "stream",
     "text": [
      "Función:\n"
     ]
    },
    {
     "data": {
      "text/latex": [
       "$\\displaystyle 2 x + \\sin{\\left(x \\right)}$"
      ],
      "text/plain": [
       "2*x + sin(x)"
      ]
     },
     "metadata": {},
     "output_type": "display_data"
    },
    {
     "name": "stdout",
     "output_type": "stream",
     "text": [
      "Expansión:\n"
     ]
    },
    {
     "data": {
      "text/latex": [
       "$\\displaystyle 3 x - \\frac{x^{3}}{6} + \\frac{x^{5}}{120} - \\frac{x^{7}}{5040} + \\frac{x^{9}}{362880} - \\frac{x^{11}}{39916800} + \\frac{x^{13}}{6227020800} - \\frac{x^{15}}{1307674368000} + \\frac{x^{17}}{355687428096000} - \\frac{x^{19}}{121645100408832000} + \\frac{x^{21}}{51090942171709440000} + O\\left(x^{22}\\right)$"
      ],
      "text/plain": [
       "3*x - x**3/6 + x**5/120 - x**7/5040 + x**9/362880 - x**11/39916800 + x**13/6227020800 - x**15/1307674368000 + x**17/355687428096000 - x**19/121645100408832000 + x**21/51090942171709440000 + O(x**22)"
      ]
     },
     "metadata": {},
     "output_type": "display_data"
    },
    {
     "name": "stdout",
     "output_type": "stream",
     "text": [
      "Orden de la serie\n"
     ]
    },
    {
     "data": {
      "text/latex": [
       "$\\displaystyle O\\left(x^{22}\\right)$"
      ],
      "text/plain": [
       "O(x**22)"
      ]
     },
     "metadata": {},
     "output_type": "display_data"
    },
    {
     "name": "stdout",
     "output_type": "stream",
     "text": [
      "Función f evaluada en 8\n"
     ]
    },
    {
     "data": {
      "text/plain": [
       "16.989358246623382"
      ]
     },
     "metadata": {},
     "output_type": "display_data"
    },
    {
     "name": "stdout",
     "output_type": "stream",
     "text": [
      "Función g evaluada en 8\n"
     ]
    },
    {
     "data": {
      "text/plain": [
       "17.00996198594241"
      ]
     },
     "metadata": {},
     "output_type": "display_data"
    },
    {
     "name": "stdout",
     "output_type": "stream",
     "text": [
      "Error de medición\n"
     ]
    },
    {
     "data": {
      "text/plain": [
       "0.02060373931902859"
      ]
     },
     "metadata": {},
     "output_type": "display_data"
    },
    {
     "name": "stdout",
     "output_type": "stream",
     "text": [
      "Error menor a la tolerancia\n"
     ]
    },
    {
     "data": {
      "image/png": "[encoded data removed]",
      "text/plain": [
       "<Figure size 640x480 with 1 Axes>"
      ]
     },
     "metadata": {},
     "output_type": "display_data"
    }
   ],
   "source": [
    "#Paqueterías\n",
    "import numpy as np\n",
    "import sympy as sy\n",
    "import matplotlib.pyplot as plt\n",
    "\n",
    "#Variable\n",
    "x= sy.symbols('x')\n",
    "#Definir funciones\n",
    "f=sy.sin(x)+2*x\n",
    "ffunc=sy.lambdify(x,f)\n",
    "g=sy.series(f,x,0,22)\n",
    "gfunc=sy.lambdify(x,g.removeO())\n",
    "#Obtener el término O\n",
    "orden=g.getO()\n",
    "#Cálculo del error\n",
    "error=gfunc(8)-ffunc(8)\n",
    "#Valor de la tolerancia\n",
    "tol=0.05\n",
    "\n",
    "\n",
    "#Prints\n",
    "print('Función:')\n",
    "display(f)\n",
    "print('Expansión:')\n",
    "display(g)\n",
    "print('Orden de la serie')\n",
    "display(orden)\n",
    "print('Función f evaluada en 8')\n",
    "display(ffunc(8))\n",
    "print('Función g evaluada en 8')\n",
    "display(gfunc(8))\n",
    "print('Error de medición')\n",
    "display(error)\n",
    "\n",
    "#Restricción del error\n",
    "if error>tol:\n",
    "    print('Error mayor a la tolerancia')\n",
    "else:\n",
    "    print('Error menor a la tolerancia')\n",
    "\n",
    "\n",
    "#plots\n",
    "X=np.linspace(-22,22)\n",
    "Yf=ffunc(X)\n",
    "Yg=gfunc(X)\n",
    "fig,ax=plt.subplots()\n",
    "ax.set_xlabel('x')\n",
    "ax.set_ylabel('y')\n",
    "plt.plot(X,Yf)\n",
    "plt.plot(X,Yg)\n",
    "plt.legend(['Expansión de f','f'])\n",
    "plt.show()\n"
   ]
  },
  {
   "cell_type": "code",
   "execution_count": null,
   "id": "891ad915",
   "metadata": {},
   "outputs": [],
   "source": []
  }
 ],
 "metadata": {
  "kernelspec": {
   "display_name": "Python 3 (ipykernel)",
   "language": "python",
   "name": "python3"
  },
  "language_info": {
   "codemirror_mode": {
    "name": "ipython",
    "version": 3
   },
   "file_extension": ".py",
   "mimetype": "text/x-python",
   "name": "python",
   "nbconvert_exporter": "python",
   "pygments_lexer": "ipython3",
   "version": "3.9.13"
  }
 },
 "nbformat": 4,
 "nbformat_minor": 5
}
