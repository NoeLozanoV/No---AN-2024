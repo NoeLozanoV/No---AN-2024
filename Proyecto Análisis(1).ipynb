{
 "cells": [
  {
   "cell_type": "code",
   "execution_count": 1,
   "id": "78dffe45",
   "metadata": {},
   "outputs": [],
   "source": [
    "#Libreria necesaria\n",
    "import numpy as np\n",
    "import sympy as sy\n",
    "import matplotlib.pyplot as plt"
   ]
  },
  {
   "cell_type": "markdown",
   "id": "2cd0cea7",
   "metadata": {},
   "source": [
    "Una esfera de densidad $\\rho_{e}$ y de radio $r$ está sumergida parcialmente en agua hasta una profundidad $d$, calcular dicha profundidad."
   ]
  },
  {
   "cell_type": "markdown",
   "id": "destroyed-onion",
   "metadata": {},
   "source": [
    "<img src=\"esferaflotando.png\">"
   ]
  },
  {
   "cell_type": "markdown",
   "id": "efc8cff2",
   "metadata": {},
   "source": [
    "Para calcular el volumen del casquete esférico sumergido en el agua necesitamos resolver la siguiente integral:\n",
    "\n",
    "$V_c=\\int_{0}^{d}\\pi(r^{2}-(r-y)^2)dy$"
   ]
  },
  {
   "cell_type": "markdown",
   "id": "22d5d8da",
   "metadata": {},
   "source": [
    "La cual se obtiene mediante la utilización del método de discos, donde $y$ es la distancia desde un disco de posición arbitraria hasta el extremo del casquete esférico, y $dy$ representa el ancho infinitesimal de dicho disco. \n",
    "\n",
    "Además, la fórmula $r^{2}-(r-y)^2$ obtenida mediante el uso del teorema de Pitágoras, nos permite calcular el radio al cuadrado del disco.\n",
    "Al resolver la integral, se obtiene el siguiente volumen del casquete esférico sumergido en el agua:"
   ]
  },
  {
   "cell_type": "markdown",
   "id": "38cd555c",
   "metadata": {},
   "source": [
    "$V_c=\\frac{\\pi d^{2}}{3}(3r-d)$"
   ]
  },
  {
   "cell_type": "markdown",
   "id": "9d25c46e",
   "metadata": {},
   "source": [
    "A través de lo anterior obtenemos el peso del agua como:\n",
    "\n",
    "$W_a=g \\rho_{a} \\frac{\\pi d^{2}}{3}(3r-d)$"
   ]
  },
  {
   "cell_type": "markdown",
   "id": "63f9fb27",
   "metadata": {},
   "source": [
    "Donde $\\rho_a$ representa la densidad del fluido, en este caso agua.\n",
    "Por otro lado, la masa de la esfera se puede calcular con la siguiente formula:"
   ]
  },
  {
   "cell_type": "markdown",
   "id": "386ecff4",
   "metadata": {},
   "source": [
    "$m_e=\\rho_{e} \\frac{4\\pi r^{3}}{3}$"
   ]
  },
  {
   "cell_type": "markdown",
   "id": "e61777b1",
   "metadata": {},
   "source": [
    "Como la esfera se encuentra parcialmente sumergida en el agua, sobre la superficie de la misma actúan los efectos\n",
    "de presión tanto del aire como del agua, dichos efectos aparecen en forma de fuerzas perpendiculares a su superficie.\n",
    "\n",
    "Si se analiza la flotación de la esfera en el agua se obtiene que el empuje experimentado por la esfera tiene que ser igual al peso de la misma, ya que esta se encuentra en equilibrio. De esta forma se puede calcular el empuje con la siguiente fórmula:"
   ]
  },
  {
   "cell_type": "markdown",
   "id": "a61d040e",
   "metadata": {},
   "source": [
    "$Em=m_{e} g= g \\rho_{e}\\frac{4\\pi r^{3}}{3}$"
   ]
  },
  {
   "cell_type": "markdown",
   "id": "412d59ed",
   "metadata": {},
   "source": [
    "Aplicando el principio de Arquímedes el cual establece que “Un cuerpo total o parcialmente sumergido en un fluido\n",
    "en reposo experimenta un empuje vertical hacia arriba igual al peso del fluido desalojado”."
   ]
  },
  {
   "cell_type": "markdown",
   "id": "3d4efccd",
   "metadata": {},
   "source": [
    "De esta forma igualando las ecuaciones de empuje vertical y el peso del agua desplazada, obtenemos la siguiente expresión:"
   ]
  },
  {
   "cell_type": "markdown",
   "id": "389a117b",
   "metadata": {},
   "source": [
    "$g \\rho_{e}\\frac{4\\pi r^{3}}{3}=g \\rho_{a} \\frac{\\pi d^{2}}{3}(3r-d)$"
   ]
  },
  {
   "cell_type": "markdown",
   "id": "67b29292",
   "metadata": {},
   "source": [
    "Igualando a cero la expresión anterior:"
   ]
  },
  {
   "cell_type": "markdown",
   "id": "29f34157",
   "metadata": {},
   "source": [
    "$\\rho_a d^{3}-3r \\rho_{a} d^{2}+4\\rho_{e} r^{3}=0$"
   ]
  },
  {
   "cell_type": "markdown",
   "id": "cbd9b487",
   "metadata": {},
   "source": [
    "Se obtiene una ecuación no lineal de la forma $f(d)=0$, para continuar con la solución se van a considerar los siguientes datos:\n",
    "\n",
    "Densidad del agua: $\\rho_{a}=1g/cm^{3}$\n",
    "\n",
    "radio de la esfera: $r=10cm$\n",
    "\n",
    "Densidad de la esfera de madera: $\\rho_{e}=0.638g/cm^{3}$"
   ]
  },
  {
   "cell_type": "code",
   "execution_count": 2,
   "id": "0b3ea34a",
   "metadata": {},
   "outputs": [
    {
     "name": "stdout",
     "output_type": "stream",
     "text": [
      "Función f(d) con los valores de los datos:\n"
     ]
    },
    {
     "data": {
      "text/latex": [
       "$\\displaystyle d^{3} - 30 d^{2} + 2552.0$"
      ],
      "text/plain": [
       "d**3 - 30*d**2 + 2552.0"
      ]
     },
     "metadata": {},
     "output_type": "display_data"
    }
   ],
   "source": [
    "#Variable\n",
    "d = sy.symbols('d')\n",
    "\n",
    "#Datos\n",
    "pa = 1\n",
    "r = 10\n",
    "pe = 0.638\n",
    "\n",
    "#Definimos la función\n",
    "def f(d):\n",
    "    return (pa*d**3)-(3*r*pa*d**2)+(4*pe*r**3)\n",
    "\n",
    "print('Función f(d) con los valores de los datos:')\n",
    "display(f(d))"
   ]
  },
  {
   "cell_type": "code",
   "execution_count": 3,
   "id": "9e2a4de7",
   "metadata": {
    "scrolled": true
   },
   "outputs": [
    {
     "data": {
      "image/png": "[encoded data removed]",
      "text/plain": [
       "<Figure size 432x288 with 1 Axes>"
      ]
     },
     "metadata": {
      "needs_background": "light"
     },
     "output_type": "display_data"
    }
   ],
   "source": [
    "#Rango de valores de x\n",
    "d = np.linspace(5, 30)\n",
    "\n",
    "# La función f(d) se graficará en y\n",
    "y = f(d)\n",
    "\n",
    "#Ploteo\n",
    "plt.plot(d, y)\n",
    "plt.xlabel('d [cm]')\n",
    "plt.ylabel('f(d)')\n",
    "plt.title('Gráfica de la función f(d)')\n",
    "plt.grid(True)\n",
    "plt.show()"
   ]
  },
  {
   "cell_type": "markdown",
   "id": "b1d3dced",
   "metadata": {},
   "source": [
    "A través de la gráfica podemos ver que existen dos ceros de la función en el intervalo mostrado, tomando en consideración que la esfera está parcialmente sumergida, se va a calcular solo el valor de la raíz que está del lado izquierdo, y cuyo valor está en aproximádamente entre $d=11$ y $d=13$"
   ]
  },
  {
   "cell_type": "code",
   "execution_count": 18,
   "id": "31f6e9dd",
   "metadata": {
    "scrolled": true
   },
   "outputs": [
    {
     "name": "stdout",
     "output_type": "stream",
     "text": [
      "11.851851851851851\n",
      "11.861499719416388\n",
      "11.861501508120353\n",
      "\n",
      "Raíz encontrada: 11.861501508120353\n",
      "\n",
      "Iteraciones realizadas: 3\n"
     ]
    }
   ],
   "source": [
    "#Definición de la función no lineal\n",
    "def fd(d):\n",
    "    return d**3-30*d**2+2552.0\n",
    "\n",
    "\n",
    "\n",
    "#Definición de la derivada de la función no lineal\n",
    "def dfd(d):\n",
    "    return 3*d**2-60*d\n",
    "\n",
    "\n",
    "\n",
    "def newton(fd, dfd, d0, tol=1e-10, maxiter=100):\n",
    "    \n",
    "#d0: Aproximación inicial\n",
    "#tol: Tolerancia para la convergencia\n",
    "#maxiter: Número máximo de iteraciones\n",
    "#d: La aproximación de la raíz encontrada        \n",
    "#iter: El número de iteraciones realizadas\n",
    "\n",
    "    iter=0\n",
    "    d=d0\n",
    "\n",
    "    while iter < maxiter:\n",
    "        f = fd(d)\n",
    "        if abs(f) < tol:\n",
    "            break\n",
    "\n",
    "        df = dfd(d)\n",
    "        if df == 0:\n",
    "            print(\"La derivada es cero. No se puede continuar.\")\n",
    "            return None\n",
    "\n",
    "        d = d-f/df\n",
    "        iter += 1\n",
    "        print(d)\n",
    "    return d, iter\n",
    "\n",
    "\n",
    "raiz, iteraciones = newton(fd, dfd, d0=11)\n",
    "print(\"\\nRaíz encontrada:\", raiz)\n",
    "print(\"\\nIteraciones realizadas:\", iteraciones)\n"
   ]
  },
  {
   "cell_type": "code",
   "execution_count": 6,
   "id": "abandoned-andorra",
   "metadata": {},
   "outputs": [
    {
     "name": "stdout",
     "output_type": "stream",
     "text": [
      "Raíz evaluada en la función:\n"
     ]
    },
    {
     "data": {
      "text/plain": [
       "1.77351466845721e-11"
      ]
     },
     "execution_count": 6,
     "metadata": {},
     "output_type": "execute_result"
    }
   ],
   "source": [
    "print('Raíz evaluada en la función:')\n",
    "fd(raiz)"
   ]
  },
  {
   "cell_type": "code",
   "execution_count": 7,
   "id": "shaped-conjunction",
   "metadata": {
    "scrolled": true
   },
   "outputs": [
    {
     "name": "stdout",
     "output_type": "stream",
     "text": [
      "Error menor a la tolerancia\n"
     ]
    }
   ],
   "source": [
    "tol=1e-10\n",
    "if fd(raiz)<tol:\n",
    "    print('Error menor a la tolerancia')\n",
    "else:\n",
    "    print('El error supera la tolerancia')"
   ]
  }
 ],
 "metadata": {
  "kernelspec": {
   "display_name": "Python 3",
   "language": "python",
   "name": "python3"
  },
  "language_info": {
   "codemirror_mode": {
    "name": "ipython",
    "version": 3
   },
   "file_extension": ".py",
   "mimetype": "text/x-python",
   "name": "python",
   "nbconvert_exporter": "python",
   "pygments_lexer": "ipython3",
   "version": "3.9.2"
  }
 },
 "nbformat": 4,
 "nbformat_minor": 5
}
