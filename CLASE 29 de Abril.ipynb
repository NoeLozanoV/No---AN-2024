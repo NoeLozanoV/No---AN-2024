{
 "cells": [
  {
   "cell_type": "markdown",
   "id": "judicial-grounds",
   "metadata": {},
   "source": [
    "$\\Large {\\textbf{Fórmula Baricéntrica}}$\n",
    "\n",
    "=> $\\normalsize {\\textbf {Mínimos cuadrados}}$\n",
    "\n"
   ]
  },
  {
   "cell_type": "code",
   "execution_count": 4,
   "id": "protecting-division",
   "metadata": {},
   "outputs": [
    {
     "data": {
      "image/png": "[encoded data removed]",
      "text/plain": [
       "<Figure size 432x288 with 1 Axes>"
      ]
     },
     "metadata": {
      "needs_background": "light"
     },
     "output_type": "display_data"
    },
    {
     "name": "stdout",
     "output_type": "stream",
     "text": [
      "1.0991681955435215\n"
     ]
    }
   ],
   "source": [
    "import numpy as np\n",
    "import matplotlib.pyplot as plt\n",
    "\n",
    "def helpers(dataxs, datays, datasigs):\n",
    "    S = np.sum(1/datasigs**2)\n",
    "    Sx = np.sum(dataxs/datasigs**2)\n",
    "    Sy = np.sum(datays/datasigs**2)\n",
    "    Sxx = np.sum(dataxs**2/datasigs**2)\n",
    "    Sxy = np.sum(dataxs*datays/datasigs**2)\n",
    "    Del = S*Sxx - Sx**2\n",
    "    return S, Sx, Sy, Sxx, Sxy, Del\n",
    "\n",
    "def computecs(dataxs, datays, datasigs):\n",
    "    S, Sx, Sy, Sxx, Sxy, Del = helpers(dataxs, datays, datasigs)\n",
    "    cs = np.zeros(2)\n",
    "    dcs = np.zeros(2)\n",
    "    cs[0] = (Sxx*Sy - Sx*Sxy)/Del\n",
    "    cs[1] = (S*Sxy - Sx*Sy)/Del\n",
    "    dcs[0] = np.sqrt(Sxx/Del)\n",
    "    dcs[1] = np.sqrt(S/Del)\n",
    "    return cs, dcs\n",
    "\n",
    "def computechisq(dataxs, datays, datasigs, cs):\n",
    "    chisq = np.sum((datays-cs[0]-cs[1]*dataxs)**2/datasigs**2)\n",
    "    return chisq\n",
    "\n",
    "dataxs = np.linspace(0, 1, 6)\n",
    "datays = np.array([3.085, 3.123, 3.224, 3.360, 3.438, 3.569])\n",
    "datasigs = np.array([0.048, 0.053, 0.02, 0.005, 0.023, 0.07])\n",
    "cs, dcs = computecs(dataxs, datays, datasigs)\n",
    "\n",
    "plt.errorbar(dataxs, datays, yerr=datasigs, fmt='o', label='Data')\n",
    "plt.plot(dataxs, cs[0] + cs[1]*dataxs, label='Fit')\n",
    "plt.xlabel('Data Xs')\n",
    "plt.ylabel('Data Ys')\n",
    "plt.title('Fit to Data')\n",
    "plt.legend()\n",
    "plt.show()\n",
    "\n",
    "chisq = computechisq(dataxs, datays, datasigs, cs)\n",
    "print(chisq/(dataxs.size - cs.size))\n"
   ]
  },
  {
   "cell_type": "code",
   "execution_count": 14,
   "id": "aggregate-coalition",
   "metadata": {},
   "outputs": [
    {
     "data": {
      "image/png": "[encoded data removed]",
      "text/plain": [
       "<Figure size 432x288 with 1 Axes>"
      ]
     },
     "metadata": {
      "needs_background": "light"
     },
     "output_type": "display_data"
    }
   ],
   "source": [
    "import matplotlib.pyplot as plt\n",
    "\n",
    "def ajuste_minimos_cuadrados(x, y):\n",
    "    # Calculando la suma de los valores\n",
    "    sum_x = sum(x)\n",
    "    sum_y = sum(y)\n",
    "    sum_xy = sum(x_i * y_i for x_i, y_i in zip(x, y))\n",
    "    sum_x_squared = sum(x_i ** 2 for x_i in x)\n",
    "    \n",
    "    # Calculando los coeficientes de la línea de ajuste\n",
    "    n = len(x)\n",
    "    m = (n * sum_xy - sum_x * sum_y) / (n * sum_x_squared - sum_x ** 2)\n",
    "    c = (sum_y - m * sum_x) / n\n",
    "    \n",
    "    return m, c\n",
    "\n",
    "# Ejemplo de datos de entrada\n",
    "x = [4, 12, 15, 21, 36]\n",
    "y = [10, 33, 51, 70, 99]\n",
    "\n",
    "# Realizando el ajuste de mínimos cuadrados\n",
    "pendiente, intercepto = ajuste_minimos_cuadrados(x, y)\n",
    "\n",
    "# Calculando las coordenadas de los puntos de la línea de ajuste\n",
    "x_fit = [min(x), max(x)]\n",
    "y_fit = [pendiente * x_i + intercepto for x_i in x_fit]\n",
    "\n",
    "# Graficando los datos y la línea de ajuste\n",
    "plt.scatter(x, y, label='Datos')\n",
    "plt.plot(x_fit, y_fit, color='red', label='Ajuste de mínimos cuadrados')\n",
    "for i in range(len(x)):\n",
    "    plt.plot([x[i], x[i]], [y[i], pendiente * x[i] + intercepto], linestyle='-', color='gray')\n",
    "plt.xlabel('X')\n",
    "plt.ylabel('Y')\n",
    "plt.title('Ajuste de mínimos cuadrados')\n",
    "plt.legend()\n",
    "plt.grid(True)\n",
    "plt.show()\n",
    "\n"
   ]
  },
  {
   "cell_type": "code",
   "execution_count": 72,
   "id": "connected-declaration",
   "metadata": {},
   "outputs": [
    {
     "name": "stdout",
     "output_type": "stream",
     "text": [
      "Chi-squared statistic: 0.27157465150403504\n",
      "Degrees of freedom: 2\n"
     ]
    },
    {
     "ename": "NameError",
     "evalue": "name 'chi2_stats' is not defined",
     "output_type": "error",
     "traceback": [
      "\u001b[0;31m---------------------------------------------------------------------------\u001b[0m",
      "\u001b[0;31mNameError\u001b[0m                                 Traceback (most recent call last)",
      "\u001b[0;32m<ipython-input-72-d4c8f9370fcc>\u001b[0m in \u001b[0;36m<module>\u001b[0;34m\u001b[0m\n\u001b[1;32m     23\u001b[0m \u001b[0mobserved\u001b[0m \u001b[0;34m=\u001b[0m \u001b[0mnp\u001b[0m\u001b[0;34m.\u001b[0m\u001b[0marray\u001b[0m\u001b[0;34m(\u001b[0m\u001b[0;34m[\u001b[0m\u001b[0;34m[\u001b[0m\u001b[0;36m10\u001b[0m\u001b[0;34m,\u001b[0m \u001b[0;36m20\u001b[0m\u001b[0;34m,\u001b[0m \u001b[0;36m30\u001b[0m\u001b[0;34m]\u001b[0m\u001b[0;34m,\u001b[0m \u001b[0;34m[\u001b[0m\u001b[0;36m6\u001b[0m\u001b[0;34m,\u001b[0m \u001b[0;36m9\u001b[0m\u001b[0;34m,\u001b[0m \u001b[0;36m17\u001b[0m\u001b[0;34m]\u001b[0m\u001b[0;34m]\u001b[0m\u001b[0;34m)\u001b[0m\u001b[0;34m\u001b[0m\u001b[0;34m\u001b[0m\u001b[0m\n\u001b[1;32m     24\u001b[0m \u001b[0mchi_squared_test\u001b[0m\u001b[0;34m(\u001b[0m\u001b[0mobserved\u001b[0m\u001b[0;34m)\u001b[0m\u001b[0;34m\u001b[0m\u001b[0;34m\u001b[0m\u001b[0m\n\u001b[0;32m---> 25\u001b[0;31m \u001b[0mchi2_stats\u001b[0m\u001b[0;34m\u001b[0m\u001b[0;34m\u001b[0m\u001b[0m\n\u001b[0m",
      "\u001b[0;31mNameError\u001b[0m: name 'chi2_stats' is not defined"
     ]
    }
   ],
   "source": [
    "import numpy as np\n",
    "\n",
    "def chi_squared_test(observed):\n",
    "    # Calculate expected frequencies\n",
    "    row_totals = np.sum(observed, axis=1)\n",
    "    col_totals = np.sum(observed, axis=0)\n",
    "    total = np.sum(observed)\n",
    "    expected = np.outer(row_totals, col_totals) / total\n",
    "\n",
    "    # Calculate Chi-squared statistic\n",
    "    chi2_stats = np.sum((observed - expected)**2 / expected)\n",
    "\n",
    "    # Determine degrees of freedom\n",
    "    df1 = (observed.shape[0] - 1) * (observed.shape[1] - 1)\n",
    "\n",
    "    # Output resultss\n",
    "    print(\"Chi-squared statistic:\", chi2_stats)\n",
    "    print(\"Degrees of freedom:\", df1)\n",
    "    return chi2_stats, df1\n",
    "\n",
    "# Example usage\n",
    "observed = np.array([[10, 20, 30], [6, 9, 17]])\n",
    "chi_squared_test(observed)"
   ]
  },
  {
   "cell_type": "code",
   "execution_count": 67,
   "id": "sudden-halifax",
   "metadata": {},
   "outputs": [
    {
     "data": {
      "image/png": "[encoded data removed]",
      "text/plain": [
       "<Figure size 432x288 with 1 Axes>"
      ]
     },
     "metadata": {
      "needs_background": "light"
     },
     "output_type": "display_data"
    },
    {
     "name": "stdout",
     "output_type": "stream",
     "text": [
      "Chi-cuadrado: 4.391053391053391\n"
     ]
    }
   ],
   "source": [
    "import numpy as np\n",
    "import matplotlib.pyplot as plt\n",
    "\n",
    "# Función para calcular la Chi-cuadrado\n",
    "def chi_squared(observed, expected):\n",
    "    return np.sum((observed - expected)**2 / expected)\n",
    "\n",
    "# Datos observados y esperados\n",
    "observed = np.array([10, 20, 30, 40, 50])\n",
    "expected = np.array([15, 25, 35, 45, 55])\n",
    "\n",
    "# Calculando la Chi-cuadrado\n",
    "chi_sq = chi_squared(observed, expected)\n",
    "\n",
    "# Graficando los datos observados y esperados\n",
    "plt.bar(np.arange(len(observed)), observed, color='blue', alpha=0.5, label='Observado')\n",
    "plt.bar(np.arange(len(expected)), expected, color='red', alpha=0.5, label='Esperado')\n",
    "plt.xlabel('Categorías')\n",
    "plt.ylabel('Frecuencia')\n",
    "plt.title('Comparación de datos observados y esperados')\n",
    "plt.legend()\n",
    "plt.grid(True)\n",
    "plt.show()\n",
    "\n",
    "print(\"Chi-cuadrado:\", chi_sq)"
   ]
  },
  {
   "cell_type": "code",
   "execution_count": 68,
   "id": "british-improvement",
   "metadata": {},
   "outputs": [
    {
     "name": "stdout",
     "output_type": "stream",
     "text": [
      "Observed values\n"
     ]
    },
    {
     "data": {
      "text/html": [
       "<div>\n",
       "<style scoped>\n",
       "    .dataframe tbody tr th:only-of-type {\n",
       "        vertical-align: middle;\n",
       "    }\n",
       "\n",
       "    .dataframe tbody tr th {\n",
       "        vertical-align: top;\n",
       "    }\n",
       "\n",
       "    .dataframe thead th {\n",
       "        text-align: right;\n",
       "    }\n",
       "</style>\n",
       "<table border=\"1\" class=\"dataframe\">\n",
       "  <thead>\n",
       "    <tr style=\"text-align: right;\">\n",
       "      <th></th>\n",
       "      <th>January</th>\n",
       "      <th>February</th>\n",
       "      <th>March</th>\n",
       "    </tr>\n",
       "  </thead>\n",
       "  <tbody>\n",
       "    <tr>\n",
       "      <th>paper</th>\n",
       "      <td>25</td>\n",
       "      <td>65</td>\n",
       "      <td>64</td>\n",
       "    </tr>\n",
       "    <tr>\n",
       "      <th>cans</th>\n",
       "      <td>50</td>\n",
       "      <td>107</td>\n",
       "      <td>94</td>\n",
       "    </tr>\n",
       "    <tr>\n",
       "      <th>glass</th>\n",
       "      <td>8</td>\n",
       "      <td>15</td>\n",
       "      <td>15</td>\n",
       "    </tr>\n",
       "    <tr>\n",
       "      <th>others</th>\n",
       "      <td>7</td>\n",
       "      <td>21</td>\n",
       "      <td>32</td>\n",
       "    </tr>\n",
       "    <tr>\n",
       "      <th>plastic</th>\n",
       "      <td>96</td>\n",
       "      <td>189</td>\n",
       "      <td>212</td>\n",
       "    </tr>\n",
       "  </tbody>\n",
       "</table>\n",
       "</div>"
      ],
      "text/plain": [
       "         January  February  March\n",
       "paper         25        65     64\n",
       "cans          50       107     94\n",
       "glass          8        15     15\n",
       "others         7        21     32\n",
       "plastic       96       189    212"
      ]
     },
     "execution_count": 68,
     "metadata": {},
     "output_type": "execute_result"
    }
   ],
   "source": [
    "import numpy as np\n",
    "import pandas as pd\n",
    "\n",
    "np.random.seed(10)\n",
    "# Sample data randomly at fixed probabilities\n",
    "type_bottle = np.random.choice(a= [\"paper\",\"cans\",\"glass\",\"others\",\"plastic\"],p = [0.05, 0.15 ,0.25, 0.05, 0.5],size=1000)\n",
    "# Sample data randomly at fixed probabilities\n",
    "month = np.random.choice(a= [\"January\",\"February\",\"March\"],p = [0.4, 0.2, 0.4],size=1000)\n",
    "\n",
    "bottles = pd.DataFrame({\"types\":type_bottle,\"months\":month})\n",
    "\n",
    "bottles_tab = pd.crosstab(bottles.types, bottles.months, margins = True)\n",
    "\n",
    "bottles_tab.columns = [\"January\",\"February\",\"March\",\"row_totals\"]\n",
    " \n",
    "bottles_tab.index = [\"paper\",\"cans\",\"glass\",\"others\",\"plastic\",\"col_totals\"]\n",
    " \n",
    "observed = bottles_tab.iloc[0:5,0:3]   # Get table without totals for later use\n",
    "bottles_tab\n",
    "print('Observed values')\n",
    "observed"
   ]
  },
  {
   "cell_type": "code",
   "execution_count": 69,
   "id": "alleged-perception",
   "metadata": {},
   "outputs": [
    {
     "name": "stdout",
     "output_type": "stream",
     "text": [
      "Expected values\n"
     ]
    },
    {
     "data": {
      "text/html": [
       "<div>\n",
       "<style scoped>\n",
       "    .dataframe tbody tr th:only-of-type {\n",
       "        vertical-align: middle;\n",
       "    }\n",
       "\n",
       "    .dataframe tbody tr th {\n",
       "        vertical-align: top;\n",
       "    }\n",
       "\n",
       "    .dataframe thead th {\n",
       "        text-align: right;\n",
       "    }\n",
       "</style>\n",
       "<table border=\"1\" class=\"dataframe\">\n",
       "  <thead>\n",
       "    <tr style=\"text-align: right;\">\n",
       "      <th></th>\n",
       "      <th>Janurary</th>\n",
       "      <th>Feburary</th>\n",
       "      <th>March</th>\n",
       "    </tr>\n",
       "  </thead>\n",
       "  <tbody>\n",
       "    <tr>\n",
       "      <th>paper</th>\n",
       "      <td>28.644</td>\n",
       "      <td>61.138</td>\n",
       "      <td>64.218</td>\n",
       "    </tr>\n",
       "    <tr>\n",
       "      <th>cans</th>\n",
       "      <td>46.686</td>\n",
       "      <td>99.647</td>\n",
       "      <td>104.667</td>\n",
       "    </tr>\n",
       "    <tr>\n",
       "      <th>glass</th>\n",
       "      <td>7.068</td>\n",
       "      <td>15.086</td>\n",
       "      <td>15.846</td>\n",
       "    </tr>\n",
       "    <tr>\n",
       "      <th>others</th>\n",
       "      <td>11.160</td>\n",
       "      <td>23.820</td>\n",
       "      <td>25.020</td>\n",
       "    </tr>\n",
       "    <tr>\n",
       "      <th>plastic</th>\n",
       "      <td>92.442</td>\n",
       "      <td>197.309</td>\n",
       "      <td>207.249</td>\n",
       "    </tr>\n",
       "  </tbody>\n",
       "</table>\n",
       "</div>"
      ],
      "text/plain": [
       "         Janurary  Feburary    March\n",
       "paper      28.644    61.138   64.218\n",
       "cans       46.686    99.647  104.667\n",
       "glass       7.068    15.086   15.846\n",
       "others     11.160    23.820   25.020\n",
       "plastic    92.442   197.309  207.249"
      ]
     },
     "execution_count": 69,
     "metadata": {},
     "output_type": "execute_result"
    }
   ],
   "source": [
    "expected =  np.outer(bottles_tab[\"row_totals\"][0:5],bottles_tab.loc[\"col_totals\"][0:3]) / 1000\n",
    " \n",
    "expected = pd.DataFrame(expected)\n",
    " \n",
    "expected.columns = [\"Janurary\",\"Feburary\",\"March\"]\n",
    "expected.index = [\"paper\",\"cans\",\"glass\",\"others\",\"plastic\"]\n",
    "print('Expected values')\n",
    "expected"
   ]
  },
  {
   "cell_type": "code",
   "execution_count": 70,
   "id": "grateful-firewall",
   "metadata": {},
   "outputs": [
    {
     "name": "stdout",
     "output_type": "stream",
     "text": [
      "3.1891910015593856\n"
     ]
    }
   ],
   "source": [
    "chi_squared_stat = (((observed-expected)**2)/expected).sum().sum()\n",
    "print(chi_squared_stat)"
   ]
  },
  {
   "cell_type": "code",
   "execution_count": 73,
   "id": "educated-chase",
   "metadata": {},
   "outputs": [
    {
     "name": "stdout",
     "output_type": "stream",
     "text": [
      "Valor crítico: 15.50731305586545\n",
      "Valor p: 0.873028283380073\n"
     ]
    }
   ],
   "source": [
    "from scipy.stats import chi2\n",
    "\n",
    "# Encontrar el valor crítico para el 95% de confianza con 8 grados de libertad\n",
    "critical_value = chi2.ppf(q=0.95, df=8)\n",
    "print(\"Valor crítico:\", critical_value)\n",
    "\n",
    "# Encontrar el valor p\n",
    "p_value = 1 - chi2.cdf(x=0.27157465150403504, df=2)\n",
    "print(\"Valor p:\", p_value)\n"
   ]
  },
  {
   "cell_type": "code",
   "execution_count": null,
   "id": "every-bishop",
   "metadata": {},
   "outputs": [],
   "source": []
  }
 ],
 "metadata": {
  "kernelspec": {
   "display_name": "Python 3",
   "language": "python",
   "name": "python3"
  },
  "language_info": {
   "codemirror_mode": {
    "name": "ipython",
    "version": 3
   },
   "file_extension": ".py",
   "mimetype": "text/x-python",
   "name": "python",
   "nbconvert_exporter": "python",
   "pygments_lexer": "ipython3",
   "version": "3.9.2"
  }
 },
 "nbformat": 4,
 "nbformat_minor": 5
}
